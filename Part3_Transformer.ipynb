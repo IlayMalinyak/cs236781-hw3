{
 "cells": [
  {
   "cell_type": "markdown",
   "metadata": {
    "id": "18sd8-wHGDR0"
   },
   "source": [
    "$$\n",
    "\\newcommand{\\mat}[1]{\\boldsymbol {#1}}\n",
    "\\newcommand{\\mattr}[1]{\\boldsymbol {#1}^\\top}\n",
    "\\newcommand{\\matinv}[1]{\\boldsymbol {#1}^{-1}}\n",
    "\\newcommand{\\vec}[1]{\\boldsymbol {#1}}\n",
    "\\newcommand{\\vectr}[1]{\\boldsymbol {#1}^\\top}\n",
    "\\newcommand{\\rvar}[1]{\\mathrm {#1}}\n",
    "\\newcommand{\\rvec}[1]{\\boldsymbol{\\mathrm{#1}}}\n",
    "\\newcommand{\\diag}{\\mathop{\\mathrm {diag}}}\n",
    "\\newcommand{\\set}[1]{\\mathbb {#1}}\n",
    "\\newcommand{\\norm}[1]{\\left\\lVert#1\\right\\rVert}\n",
    "\\newcommand{\\pderiv}[2]{\\frac{\\partial #1}{\\partial #2}}\n",
    "\\newcommand{\\bb}[1]{\\boldsymbol{#1}}\n",
    "$$\n",
    "# Part 3: Transformer\n",
    "<a id=part3></a>"
   ]
  },
  {
   "cell_type": "markdown",
   "metadata": {
    "id": "AiCHKxjfGLRu"
   },
   "source": [
    "In this part we will implement a variation of the attention mechanism named the 'sliding window attention'. Next, we will create a transformer encoder with the sliding-window attention implementation, and we will train the encoder for sentiment analysis."
   ]
  },
  {
   "cell_type": "code",
   "execution_count": 1,
   "metadata": {
    "colab": {
     "base_uri": "https://localhost:8080/"
    },
    "id": "0t2UQaeKCKxa",
    "outputId": "10e4f165-d0c0-4ac9-960a-6796ff3c1750"
   },
   "outputs": [],
   "source": [
    "import unittest\n",
    "import math\n",
    "import torch\n",
    "import torch.nn as nn\n",
    "import torch.nn.functional as F\n",
    "import copy\n",
    "import torch.optim as optim\n",
    "from tqdm import tqdm\n",
    "import os\n",
    "\n",
    "%load_ext autoreload\n",
    "%autoreload 2"
   ]
  },
  {
   "cell_type": "code",
   "execution_count": 2,
   "metadata": {
    "colab": {
     "base_uri": "https://localhost:8080/"
    },
    "id": "35B3L7USC5PE",
    "outputId": "5e05f218-468a-4e54-c9bb-a7357f0dfe09"
   },
   "outputs": [
    {
     "name": "stdout",
     "output_type": "stream",
     "text": [
      "Using device: cuda\n"
     ]
    }
   ],
   "source": [
    "test = unittest.TestCase()\n",
    "device = torch.device('cuda' if torch.cuda.is_available() else 'cpu')\n",
    "\n",
    "print('Using device:', device)"
   ]
  },
  {
   "cell_type": "markdown",
   "metadata": {
    "id": "2kRUk_GYNDd5"
   },
   "source": [
    "## Reminder: scaled dot product attention\n",
    "<a id=part3_1></a>"
   ]
  },
  {
   "cell_type": "markdown",
   "metadata": {
    "id": "30P7CuIwNKy-"
   },
   "source": [
    "In class, you saw that the scaled dot product attention is defined as:\n",
    "\n",
    "$$\n",
    "\\begin{align}\n",
    "\\mat{B} &= \\frac{1}{\\sqrt{d}} \\mat{Q}\\mattr{K}  \\ \\in\\set{R}^{m\\times n} \\\\\n",
    "\\mat{A} &= softmax({\\mat{B}},{\\mathrm{dim}=1}), \\in\\set{R}^{m\\times n} \\\\\n",
    "\\mat{Y} &= \\mat{A}\\mat{V} \\ \\in\\set{R}^{m\\times d_v}.\n",
    "\\end{align}\n",
    "$$\n",
    "\n",
    "where `K`,`Q` and `V` for the self attention came as projections of the same input sequnce\n",
    "\n",
    "$$\n",
    "\\begin{align*}\n",
    "\\vec{q}_{i} &= \\mat{W}_{xq}\\vec{x}_{i} &\n",
    "\\vec{k}_{i} &= \\mat{W}_{xk}\\vec{x}_{i} &\n",
    "\\vec{v}_{i} &= \\mat{W}_{xv}\\vec{x}_{i} \n",
    "\\end{align*}\n",
    "$$\n",
    "\n",
    "If you feel the attention mechanism doesn't quite sit right, we recommend you go over lecture and tutorial notes before proceeding. \n",
    "\n",
    "We are now going to introduce a slight variation of the scaled dot product attention."
   ]
  },
  {
   "cell_type": "markdown",
   "metadata": {
    "id": "G8CMV4VKG7YB"
   },
   "source": [
    "## Sliding window attention\n",
    "<a id=part3_2></a>"
   ]
  },
  {
   "cell_type": "markdown",
   "metadata": {
    "id": "YphH4DuEHP1p"
   },
   "source": [
    "The scaled dot product attention computes the dot product between **every** pair of key and query vectors. Therefore, the computation complexity is $O(n^2)$ where $n$ is the sequence length.\n",
    "\n",
    "In order to obtain a computational complexity that grows linearly with the sequnce length, the authors of 'Longformer: The Long-Document Transformer https://arxiv.org/pdf/2004.05150.pdf' proposed the 'sliding window attention' which is a variation of the scaled dot product attention. \n",
    "\n",
    "In this variation, instead of computing the dot product for every pair of key and query vectors, the dot product is only computed for keys that are in a certain 'window' around the query vector. \n",
    "\n",
    "For example, if the keys and queries are embeddings of words in the sentence \"CS is more prestigious than EE\", and the window size is 2, then for the query corresponding to the word 'is' we will only compute a dot product with the keys that are at most ${window\\_size}\\over{2}$$ = $${2}\\over{2}$$=1$ to the left and to the right. Meaning the keys that correspond to the workds 'CS', 'is' and 'more'.\n",
    "\n",
    "Formally, the intermediate calculation of the normalized dot product can be written as: \n",
    "\n",
    "$$\n",
    "\\mathrm{b}(q, k, w) \n",
    "=\n",
    "\\begin{cases}\n",
    "    q⋅k^T\\over{\\sqrt{d_k}} & \\mathrm{if} \\;d(q,k) ≤ {{w}\\over{2}} \\\\\n",
    "    -\\infty & \\mathrm{otherwise}\n",
    "\\end{cases}.\n",
    "$$\n",
    "\n",
    "Where $b(\\cdot,\\cdot,\\cdot)$ is the intermediate result function (used to construct a matrix $\\mat{B}$ on which we perform the softmax), $q$ is the query vector, $k$ is the key vector, $w$ is the sliding window size, and $d(\\cdot,\\cdot)$ is the distance function between the positions of the tokens corresponding to the key and query vectors.\n",
    "\n",
    "**Note**: The distance function $d(\\cdot,\\cdot)$ is **Not** cyclical. Meaning that that in the example above when searching for the words at distance 1 from the word 'CS', we **don't** return cyclically from the right and count the word EE.\n",
    "\n",
    "The result of this operation can be visualized like this: (green corresponds to computing the scaled dot product, and white to a no-op or $-∞$).\n",
    "\n",
    "<img src=\"https://production-media.paperswithcode.com/methods/Screen_Shot_2020-05-31_at_7.27.29_PM.png\" width=\"400\"/>\n",
    "\n",
    "\n",
    "\n",
    "\n"
   ]
  },
  {
   "cell_type": "markdown",
   "metadata": {
    "id": "tZTy748cWIEC"
   },
   "source": [
    "**TODO**: Implement the sliding_window_attention function in hw3/transformer.py"
   ]
  },
  {
   "cell_type": "code",
   "execution_count": 63,
   "metadata": {
    "id": "CY1gz0fSebQP",
    "scrolled": true
   },
   "outputs": [
    {
     "name": "stdout",
     "output_type": "stream",
     "text": [
      "in pv: bsz,seq_len,heads,dim -  2 6 1 3\n",
      "tensor([[[ 0.,  1.,  2.],\n",
      "         [ 3.,  4.,  5.],\n",
      "         [ 6.,  7.,  8.],\n",
      "         [ 9., 10., 11.],\n",
      "         [12., 13., 14.]],\n",
      "\n",
      "        [[ 0.,  1.,  2.],\n",
      "         [ 3.,  4.,  5.],\n",
      "         [ 6.,  7.,  8.],\n",
      "         [ 9., 10., 11.],\n",
      "         [12., 13., 14.]]])\n",
      "tensor([[[ 2.9835,  3.9835,  4.9835],\n",
      "         [ 6.0000,  7.0000,  8.0000],\n",
      "         [ 9.0000, 10.0000, 11.0000],\n",
      "         [12.0000, 13.0000, 14.0000],\n",
      "         [12.0000, 13.0000, 14.0000]],\n",
      "\n",
      "        [[ 2.9835,  3.9835,  4.9835],\n",
      "         [ 6.0000,  7.0000,  8.0000],\n",
      "         [ 9.0000, 10.0000, 11.0000],\n",
      "         [12.0000, 13.0000, 14.0000],\n",
      "         [12.0000, 13.0000, 14.0000]]])\n",
      "in pv: bsz,seq_len,heads,dim -  2 6 3 3\n"
     ]
    }
   ],
   "source": [
    "from hw3.transformer import sliding_window_attention\n",
    "\n",
    "\n",
    "## test sliding-window attention\n",
    "num_heads = 3\n",
    "batch_size = 2\n",
    "seq_len = 5\n",
    "embed_dim = 3\n",
    "window_size = 2\n",
    "\n",
    "## test without extra dimension for heads\n",
    "x = torch.arange(seq_len*embed_dim).reshape(seq_len,embed_dim).repeat(batch_size,1).reshape(batch_size, seq_len, -1).float()\n",
    "\n",
    "values, attention = sliding_window_attention(x, x, x,window_size)\n",
    "\n",
    "gt_values = torch.load(os.path.join('test_tensors','values_tensor_0_heads.pt'))\n",
    "\n",
    "# print(gt_values, values)\n",
    "test.assertTrue(torch.all(values == gt_values), f'the tensors differ in dims [B,row,col]:{torch.stack(torch.where(values != gt_values),dim=0)}')\n",
    "gt_attention = torch.load(os.path.join('test_tensors','attention_tensor_0_heads.pt'))\n",
    "print(x)\n",
    "print(values)\n",
    "test.assertTrue(torch.all(attention == gt_attention), f'the tensors differ in dims [B,row,col]:{torch.stack(torch.where(attention != gt_attention),dim=0)}')\n",
    "\n",
    "\n",
    "## test with extra dimension for heads\n",
    "x = torch.arange(seq_len*embed_dim).reshape(seq_len,embed_dim).repeat(batch_size, num_heads, 1).reshape(batch_size, num_heads, seq_len, -1).float()\n",
    "\n",
    "values, attention = sliding_window_attention(x, x, x,window_size)\n",
    "\n",
    "\n",
    "\n",
    "\n",
    "gt_values = torch.load(os.path.join('test_tensors','values_tensor_3_heads.pt'))\n",
    "# print(values)\n",
    "# print(gt_values)\n",
    "test.assertTrue(torch.all(values == gt_values), f'the tensors differ in dims [B,num_heads,row,col]:{torch.stack(torch.where(values != gt_values),dim=0)}')\n",
    "\n",
    "\n",
    "gt_attention = torch.load(os.path.join('test_tensors','attention_tensor_3_heads.pt'))\n",
    "test.assertTrue(torch.all(attention == gt_attention), f'the tensors differ in dims [B,num_heads,row,col]:{torch.stack(torch.where(attention != gt_attention),dim=0)}')\n",
    "# print(\"gt\", gt_attention)\n"
   ]
  },
  {
   "cell_type": "markdown",
   "metadata": {
    "id": "TlHiDHhgeS1_"
   },
   "source": [
    "## Multihead Sliding window attention\n",
    "<a id=part3_2></a>"
   ]
  },
  {
   "cell_type": "markdown",
   "metadata": {},
   "source": [
    "As you've seen in class, the transformer model uses a Multi-head attention module. We will use the same implementation you've seen in the tutorial, aside from the attention mechanism itslef, which will be swapped with the sliding-window attention you implemented.\n"
   ]
  },
  {
   "cell_type": "markdown",
   "metadata": {},
   "source": [
    "**TODO**: Insert the call to the sliding-window attention mechanism in the forward of MultiHeadAttention in hw3/transformer.py "
   ]
  },
  {
   "cell_type": "markdown",
   "metadata": {
    "id": "NyHo9Oy_Z7SX",
    "tags": []
   },
   "source": [
    "## Sentiment analysis\n",
    "<a id=part3_3></a>"
   ]
  },
  {
   "cell_type": "markdown",
   "metadata": {
    "id": "Q6MMtJFRaZCi"
   },
   "source": [
    "We will now go on to tackling the task of sentiment analysis which is the process of analyzing text to determine if the emotional tone of the message is positive or negative (many times a neutral class is also used, but this won't be the case in the data we will be working with).\n",
    "\n",
    "\n",
    "\n"
   ]
  },
  {
   "cell_type": "markdown",
   "metadata": {
    "tags": []
   },
   "source": [
    "### IMBD hugging face dataset\n",
    "<a id=part3_3_1></a>"
   ]
  },
  {
   "cell_type": "markdown",
   "metadata": {},
   "source": [
    "Hugging Face is a popular open-source library and platform that provides state-of-the-art tools and resources for natural language processing (NLP) tasks. It has gained immense popularity within the NLP community due to its user-friendly interfaces, powerful pre-trained models, and a vibrant community that actively contributes to its development. \n",
    "\n",
    "Hugging Face provides a wide array of tools and utilities, which we will leverage as well. The Hugging Face Transformers library, built on top of PyTorch and TensorFlow, offers a simple yet powerful API for working with Transformer-based models (such as Distil-BERT). It enables users to easily load, fine-tune, and evaluate models, as well as generate text using these models.\n",
    "\n",
    "Furthermore, Hugging Face offers the Hugging Face Datasets library, which provides access to a vast collection of publicly available datasets for NLP. These datasets can be conveniently downloaded and used for training and evaluation purposes.\n",
    "\n",
    "You are encouraged to visit their site and see other uses: https://huggingface.co/"
   ]
  },
  {
   "cell_type": "code",
   "execution_count": 64,
   "metadata": {
    "tags": []
   },
   "outputs": [
    {
     "name": "stdout",
     "output_type": "stream",
     "text": [
      "The autoreload extension is already loaded. To reload it, use:\n",
      "  %reload_ext autoreload\n"
     ]
    }
   ],
   "source": [
    "import numpy as np\n",
    "import pandas as pd\n",
    "import sys\n",
    "import pathlib\n",
    "import urllib\n",
    "import shutil\n",
    "import re\n",
    "\n",
    "import matplotlib.pyplot as plt\n",
    "\n",
    "%load_ext autoreload\n",
    "%autoreload 2"
   ]
  },
  {
   "cell_type": "code",
   "execution_count": 65,
   "metadata": {
    "slideshow": {
     "slide_type": ""
    },
    "tags": []
   },
   "outputs": [],
   "source": [
    "from datasets import DatasetDict\n",
    "from datasets import load_dataset, load_metric, concatenate_datasets"
   ]
  },
  {
   "cell_type": "markdown",
   "metadata": {},
   "source": [
    "First, we load the dataset using Hugging Face's `datasets` library.\n",
    "\n",
    "Feel free to look around at the full array of datasets that they offer.\n",
    "\n",
    "https://huggingface.co/docs/datasets/index\n",
    "\n",
    "We will load the full training and test sets in addition to a small toy subset of the training set.\n"
   ]
  },
  {
   "cell_type": "code",
   "execution_count": 66,
   "metadata": {
    "scrolled": true,
    "tags": []
   },
   "outputs": [
    {
     "name": "stderr",
     "output_type": "stream",
     "text": [
      "Found cached dataset imdb (/home/ilay.kamai/.cache/huggingface/datasets/imdb/plain_text/1.0.0/d613c88cf8fa3bab83b4ded3713f1f74830d1100e171db75bbddb80b3345c9c0)\n"
     ]
    },
    {
     "data": {
      "application/vnd.jupyter.widget-view+json": {
       "model_id": "25d169dd582a4a1790a0774b8c2fcb43",
       "version_major": 2,
       "version_minor": 0
      },
      "text/plain": [
       "  0%|          | 0/3 [00:00<?, ?it/s]"
      ]
     },
     "metadata": {},
     "output_type": "display_data"
    }
   ],
   "source": [
    "dataset = load_dataset('imdb', split=['train', 'test', 'train[12480:12520]'])"
   ]
  },
  {
   "cell_type": "code",
   "execution_count": 67,
   "metadata": {
    "tags": []
   },
   "outputs": [
    {
     "name": "stdout",
     "output_type": "stream",
     "text": [
      "[Dataset({\n",
      "    features: ['text', 'label'],\n",
      "    num_rows: 25000\n",
      "}), Dataset({\n",
      "    features: ['text', 'label'],\n",
      "    num_rows: 25000\n",
      "}), Dataset({\n",
      "    features: ['text', 'label'],\n",
      "    num_rows: 40\n",
      "})]\n"
     ]
    }
   ],
   "source": [
    "print(dataset)"
   ]
  },
  {
   "cell_type": "markdown",
   "metadata": {},
   "source": [
    "We see that it returned a list of 3 labeled datasets, the first two of size 25,000, and the third of size 40.\n",
    "We will use these as `train` and `test` datasets for training the model, and the `toy` dataset for a sanity check. \n",
    "These Datasets are wrapped in a `Dataset` class.\n",
    "\n",
    "We now wrap the dataset into a `DatasetDict` class, which contains helpful methods to use for working with the data.   \n",
    "https://huggingface.co/docs/datasets/package_reference/main_classes#datasets.DatasetDict"
   ]
  },
  {
   "cell_type": "code",
   "execution_count": 68,
   "metadata": {
    "tags": []
   },
   "outputs": [],
   "source": [
    "#wrap it in a DatasetDict to enable methods such as map and format\n",
    "dataset = DatasetDict({'train': dataset[0], 'val': dataset[1], 'toy': dataset[2]})"
   ]
  },
  {
   "cell_type": "code",
   "execution_count": 69,
   "metadata": {
    "tags": []
   },
   "outputs": [
    {
     "data": {
      "text/plain": [
       "DatasetDict({\n",
       "    train: Dataset({\n",
       "        features: ['text', 'label'],\n",
       "        num_rows: 25000\n",
       "    })\n",
       "    val: Dataset({\n",
       "        features: ['text', 'label'],\n",
       "        num_rows: 25000\n",
       "    })\n",
       "    toy: Dataset({\n",
       "        features: ['text', 'label'],\n",
       "        num_rows: 40\n",
       "    })\n",
       "})"
      ]
     },
     "execution_count": 69,
     "metadata": {},
     "output_type": "execute_result"
    }
   ],
   "source": [
    "dataset"
   ]
  },
  {
   "cell_type": "markdown",
   "metadata": {},
   "source": [
    "We can now access the datasets in the Dict as we would a dictionary.\n",
    "Let's print a few training samples"
   ]
  },
  {
   "cell_type": "code",
   "execution_count": 70,
   "metadata": {
    "scrolled": true,
    "tags": []
   },
   "outputs": [
    {
     "name": "stdout",
     "output_type": "stream",
     "text": [
      "Dataset({\n",
      "    features: ['text', 'label'],\n",
      "    num_rows: 25000\n",
      "})\n",
      "TRAINING SAMPLE 0:\n",
      "I rented I AM CURIOUS-YELLOW from my video store because of all the controversy that surrounded it when it was first released in 1967. I also heard that at first it was seized by U.S. customs if it ever tried to enter this country, therefore being a fan of films considered \"controversial\" I really had to see this for myself.<br /><br />The plot is centered around a young Swedish drama student named Lena who wants to learn everything she can about life. In particular she wants to focus her attentions to making some sort of documentary on what the average Swede thought about certain political issues such as the Vietnam War and race issues in the United States. In between asking politicians and ordinary denizens of Stockholm about their opinions on politics, she has sex with her drama teacher, classmates, and married men.<br /><br />What kills me about I AM CURIOUS-YELLOW is that 40 years ago, this was considered pornographic. Really, the sex and nudity scenes are few and far between, even then it's not shot like some cheaply made porno. While my countrymen mind find it shocking, in reality sex and nudity are a major staple in Swedish cinema. Even Ingmar Bergman, arguably their answer to good old boy John Ford, had sex scenes in his films.<br /><br />I do commend the filmmakers for the fact that any sex shown in the film is shown for artistic purposes rather than just to shock people and make money to be shown in pornographic theaters in America. I AM CURIOUS-YELLOW is a good film for anyone wanting to study the meat and potatoes (no pun intended) of Swedish cinema. But really, this film doesn't have much of a plot.\n",
      "Label 0: 0\n",
      "\n",
      "\n",
      "TRAINING SAMPLE 1:\n",
      "\"I Am Curious: Yellow\" is a risible and pretentious steaming pile. It doesn't matter what one's political views are because this film can hardly be taken seriously on any level. As for the claim that frontal male nudity is an automatic NC-17, that isn't true. I've seen R-rated films with male nudity. Granted, they only offer some fleeting views, but where are the R-rated films with gaping vulvas and flapping labia? Nowhere, because they don't exist. The same goes for those crappy cable shows: schlongs swinging in the breeze but not a clitoris in sight. And those pretentious indie movies like The Brown Bunny, in which we're treated to the site of Vincent Gallo's throbbing johnson, but not a trace of pink visible on Chloe Sevigny. Before crying (or implying) \"double-standard\" in matters of nudity, the mentally obtuse should take into account one unavoidably obvious anatomical difference between men and women: there are no genitals on display when actresses appears nude, and the same cannot be said for a man. In fact, you generally won't see female genitals in an American film in anything short of porn or explicit erotica. This alleged double-standard is less a double standard than an admittedly depressing ability to come to terms culturally with the insides of women's bodies.\n",
      "Label 1: 0\n",
      "\n",
      "\n",
      "TRAINING SAMPLE 2:\n",
      "If only to avoid making this type of film in the future. This film is interesting as an experiment but tells no cogent story.<br /><br />One might feel virtuous for sitting thru it because it touches on so many IMPORTANT issues but it does so without any discernable motive. The viewer comes away with no new perspectives (unless one comes up with one while one's mind wanders, as it will invariably do during this pointless film).<br /><br />One might better spend one's time staring out a window at a tree growing.<br /><br />\n",
      "Label 2: 0\n",
      "\n",
      "\n",
      "TRAINING SAMPLE 3:\n",
      "This film was probably inspired by Godard's Masculin, féminin and I urge you to see that film instead.<br /><br />The film has two strong elements and those are, (1) the realistic acting (2) the impressive, undeservedly good, photo. Apart from that, what strikes me most is the endless stream of silliness. Lena Nyman has to be most annoying actress in the world. She acts so stupid and with all the nudity in this film,...it's unattractive. Comparing to Godard's film, intellectuality has been replaced with stupidity. Without going too far on this subject, I would say that follows from the difference in ideals between the French and the Swedish society.<br /><br />A movie of its time, and place. 2/10.\n",
      "Label 3: 0\n",
      "\n",
      "\n"
     ]
    }
   ],
   "source": [
    "print(dataset['train'])\n",
    "\n",
    "for i in range(4):\n",
    "    print(f'TRAINING SAMPLE {i}:') \n",
    "    print(dataset['train'][i]['text'])\n",
    "    label = dataset['train'][i]['label']\n",
    "    print(f'Label {i}: {label}')\n",
    "    print('\\n')"
   ]
  },
  {
   "cell_type": "markdown",
   "metadata": {},
   "source": [
    "We should check the label distirbution:"
   ]
  },
  {
   "cell_type": "code",
   "execution_count": 71,
   "metadata": {
    "tags": []
   },
   "outputs": [
    {
     "name": "stdout",
     "output_type": "stream",
     "text": [
      "negative samples in train dataset: 12500\n",
      "positive samples in train dataset: 12500\n",
      "negative samples in val dataset: 12500\n",
      "positive samples in val dataset: 12500\n",
      "negative samples in toy dataset: 20\n",
      "positive samples in toy dataset: 20\n"
     ]
    }
   ],
   "source": [
    "def label_cnt(type):\n",
    "    ds = dataset[type]\n",
    "    size = len(ds)\n",
    "    cnt= 0 \n",
    "    for smp in ds:\n",
    "        cnt += smp['label']\n",
    "    print(f'negative samples in {type} dataset: {size - cnt}')\n",
    "    print(f'positive samples in {type} dataset: {cnt}')\n",
    "    \n",
    "label_cnt('train')\n",
    "label_cnt('val')\n",
    "label_cnt('toy')\n"
   ]
  },
  {
   "cell_type": "markdown",
   "metadata": {
    "tags": []
   },
   "source": [
    "### __Import the tokenizer for the dataset__"
   ]
  },
  {
   "cell_type": "markdown",
   "metadata": {},
   "source": [
    "Let’s tokenize the texts into individual word tokens using the tokenizer implementation inherited from the pre-trained model class.  \n",
    "With Hugging Face you will always find a tokenizer associated with each model. If you are not doing research or experiments on tokenizers it’s always preferable to use the standard tokenizers.  \n",
    "\n"
   ]
  },
  {
   "cell_type": "code",
   "execution_count": 72,
   "metadata": {
    "tags": []
   },
   "outputs": [
    {
     "name": "stdout",
     "output_type": "stream",
     "text": [
      "Tokenizer input max length: 512\n",
      "Tokenizer vocabulary size: 30522\n"
     ]
    }
   ],
   "source": [
    "from transformers import AutoTokenizer\n",
    "\n",
    "tokenizer = AutoTokenizer.from_pretrained(\"distilbert-base-uncased\")\n",
    "print(\"Tokenizer input max length:\", tokenizer.model_max_length)\n",
    "print(\"Tokenizer vocabulary size:\", tokenizer.vocab_size)"
   ]
  },
  {
   "cell_type": "markdown",
   "metadata": {},
   "source": [
    "Let's create helper functions to tokenize the text. Notice the arguments sent to the tokenizer.  \n",
    "__Padding__ is a strategy for ensuring tensors are rectangular by adding a special padding token to shorter sentences.   \n",
    "On the other hand , sometimes a sequence may be too long for a model to handle. In this case, you’ll need to __truncate__ the sequence to a shorter length."
   ]
  },
  {
   "cell_type": "code",
   "execution_count": 73,
   "metadata": {
    "scrolled": true,
    "slideshow": {
     "slide_type": ""
    },
    "tags": []
   },
   "outputs": [
    {
     "name": "stderr",
     "output_type": "stream",
     "text": [
      "Loading cached processed dataset at /home/ilay.kamai/.cache/huggingface/datasets/imdb/plain_text/1.0.0/d613c88cf8fa3bab83b4ded3713f1f74830d1100e171db75bbddb80b3345c9c0/cache-939e63eb3aa6a00f.arrow\n",
      "Loading cached processed dataset at /home/ilay.kamai/.cache/huggingface/datasets/imdb/plain_text/1.0.0/d613c88cf8fa3bab83b4ded3713f1f74830d1100e171db75bbddb80b3345c9c0/cache-63bea33e31b2a77f.arrow\n",
      "Loading cached processed dataset at /home/ilay.kamai/.cache/huggingface/datasets/imdb/plain_text/1.0.0/d613c88cf8fa3bab83b4ded3713f1f74830d1100e171db75bbddb80b3345c9c0/cache-d3e7dbf114c10bbf.arrow\n"
     ]
    }
   ],
   "source": [
    "def tokenize_text(batch):\n",
    "    return tokenizer(batch[\"text\"], truncation=True, padding=True)\n",
    "\n",
    "def tokenize_dataset(dataset):\n",
    "    dataset_tokenized = dataset.map(tokenize_text, batched=True, batch_size =None)\n",
    "    return dataset_tokenized\n",
    "\n",
    "dataset_tokenized = tokenize_dataset(dataset)"
   ]
  },
  {
   "cell_type": "code",
   "execution_count": 74,
   "metadata": {
    "tags": []
   },
   "outputs": [],
   "source": [
    "# we would like to work with pytorch so we can manually fine-tune\n",
    "dataset_tokenized.set_format(\"torch\", columns=[\"input_ids\", \"attention_mask\", \"label\"])"
   ]
  },
  {
   "cell_type": "code",
   "execution_count": 75,
   "metadata": {
    "tags": []
   },
   "outputs": [],
   "source": [
    "# no need to parrarelize in this assignment\n",
    "os.environ[\"TOKENIZERS_PARALLELISM\"] = \"false\""
   ]
  },
  {
   "cell_type": "markdown",
   "metadata": {
    "tags": []
   },
   "source": [
    "### __Setting up the dataloaders and dataset__"
   ]
  },
  {
   "cell_type": "markdown",
   "metadata": {},
   "source": [
    "We will now set up the dataloaders for efficient batching and loading of the data.  \n",
    "By now, you are familiar with the Class methods that are needed to create a working Dataloader.\n"
   ]
  },
  {
   "cell_type": "code",
   "execution_count": 76,
   "metadata": {
    "tags": []
   },
   "outputs": [],
   "source": [
    "from torch.utils.data import DataLoader, Dataset"
   ]
  },
  {
   "cell_type": "code",
   "execution_count": 77,
   "metadata": {
    "tags": []
   },
   "outputs": [],
   "source": [
    "class IMDBDataset(Dataset):\n",
    "    def __init__(self, dataset):\n",
    "        self.ds = dataset\n",
    "\n",
    "    def __getitem__(self, index):\n",
    "        return self.ds[index]\n",
    "\n",
    "    def __len__(self):\n",
    "        return self.ds.num_rows"
   ]
  },
  {
   "cell_type": "code",
   "execution_count": 78,
   "metadata": {
    "tags": []
   },
   "outputs": [],
   "source": [
    "train_dataset = IMDBDataset(dataset_tokenized['train'])\n",
    "val_dataset = IMDBDataset(dataset_tokenized['val'])\n",
    "toy_dataset = IMDBDataset(dataset_tokenized['toy'])"
   ]
  },
  {
   "cell_type": "code",
   "execution_count": 79,
   "metadata": {
    "slideshow": {
     "slide_type": ""
    },
    "tags": []
   },
   "outputs": [],
   "source": [
    "dl_train,dl_val, dl_toy = [ \n",
    "    DataLoader(\n",
    "    dataset=train_dataset,\n",
    "    batch_size=12,\n",
    "    shuffle=True, \n",
    "    num_workers=0\n",
    "),\n",
    "DataLoader(\n",
    "    dataset=val_dataset,\n",
    "    batch_size=12,\n",
    "    shuffle=True, \n",
    "    num_workers=0\n",
    "),\n",
    "DataLoader(\n",
    "    dataset=toy_dataset,\n",
    "    batch_size=4,\n",
    "    num_workers=0\n",
    ")]"
   ]
  },
  {
   "cell_type": "markdown",
   "metadata": {
    "id": "tDSwVcumaY_E",
    "tags": []
   },
   "source": [
    "### Transformer Encoder\n",
    "<a id=part3_3_2></a>"
   ]
  },
  {
   "cell_type": "markdown",
   "metadata": {
    "id": "qDsr_vqWa3V5"
   },
   "source": [
    "The model we will use for the task at hand, is the encoder of the transformer proposed in the seminal paper 'Attention Is All You Need'.\n",
    "\n",
    "The encoder is composed of positional encoding, and then multiple blocks which compute multi-head attention, layer normalization and a feed forward network as described in the diagram below.\n",
    "\n"
   ]
  },
  {
   "cell_type": "markdown",
   "metadata": {
    "tags": []
   },
   "source": [
    "<img src=\"imgs/transformer_encoder.png\" alt=\"Alternative text\" />"
   ]
  },
  {
   "cell_type": "markdown",
   "metadata": {
    "tags": []
   },
   "source": [
    "We provided you with implemetations for the positional encoding and the position-wise feed forward MLP in hw3/transformer.py. \n",
    "\n",
    "Feel free to read through the implementations to make sure you understand what they do."
   ]
  },
  {
   "cell_type": "markdown",
   "metadata": {},
   "source": [
    "**TODO**: To begin with, complete the transformer EncoderLayer in hw3/transformer.py"
   ]
  },
  {
   "cell_type": "code",
   "execution_count": 80,
   "metadata": {
    "tags": []
   },
   "outputs": [
    {
     "name": "stdout",
     "output_type": "stream",
     "text": [
      "torch.Size([2, 10, 16])\n",
      "in pv: bsz,seq_len,heads,dim -  2 12 4 4\n",
      "tensor([[-0.9492, -1.3348,  2.0958,  0.5408, -0.3439, -0.4952,  0.6613,  0.2267,\n",
      "         -0.5791,  1.2033, -1.0133,  0.2080,  0.5477, -1.9535,  0.3605,  0.8250],\n",
      "        [ 0.1300, -0.0374,  0.9201, -0.0756,  1.8759, -0.8708, -0.2386,  0.7406,\n",
      "         -1.3577, -0.6434, -0.9732,  1.5466,  0.0593, -1.3999, -0.9856,  1.3098],\n",
      "        [-0.0828, -1.2272,  2.4408, -0.7157,  0.1792, -1.2909,  0.0639, -0.2931,\n",
      "          0.1413, -0.3655, -0.0946,  0.7995,  1.4783, -1.7222,  0.4822,  0.2069],\n",
      "        [-0.7144,  0.1083,  1.4828,  0.2790,  1.9827, -0.1047, -0.4070, -0.4829,\n",
      "         -1.2649,  0.7923, -1.2456, -0.3418,  0.3247, -1.9000,  0.4843,  1.0073],\n",
      "        [-0.7482,  1.0413,  1.0933,  0.4537,  1.3103, -1.3758, -1.0212, -0.6007,\n",
      "         -1.3311,  1.1024, -0.6089, -0.7289,  1.7554, -0.8731,  0.0828,  0.4485],\n",
      "        [-0.8874, -1.1228,  1.9098, -0.0374,  1.1331, -1.1418, -1.1113, -0.9761,\n",
      "         -0.6320, -0.1812, -0.2852, -0.3467,  1.0804, -0.0049,  0.8911,  1.7125],\n",
      "        [-0.1593, -0.0070, -0.3893,  0.4816, -0.5258, -0.4617, -1.4241,  0.3165,\n",
      "         -0.6904, -0.6231,  0.5017, -1.0879,  0.5945, -0.7629,  1.5017,  2.7354],\n",
      "        [-0.1043, -1.4801,  0.7546,  0.2549,  0.4169, -1.0266, -1.4933,  0.9244,\n",
      "          0.5076,  1.8497, -0.9386,  0.6903, -0.6269, -1.1722,  0.0125,  1.4310],\n",
      "        [-0.2904, -1.5328,  1.1154,  1.1180,  0.0318, -1.2798,  0.4459,  0.1774,\n",
      "         -1.4562,  0.0329, -1.1561,  1.8210,  0.1059, -0.8182,  1.2476,  0.4377],\n",
      "        [-1.4345, -1.9286,  1.9565, -0.8182,  0.6006, -0.4535,  0.5335, -0.3151,\n",
      "         -0.0530,  1.1624, -0.9077,  0.5771, -0.6062,  1.1976, -0.1696,  0.6586]],\n",
      "       grad_fn=<SelectBackward0>)\n",
      "tensor([[-9.2572e-01, -1.3423e+00,  2.1179e+00,  4.9789e-01, -3.6513e-01,\n",
      "         -5.0698e-01,  6.7423e-01,  2.3491e-01, -6.1246e-01,  1.1984e+00,\n",
      "         -1.0363e+00,  2.3312e-01,  5.5902e-01, -1.9118e+00,  3.7096e-01,\n",
      "          8.1417e-01],\n",
      "        [ 1.0347e-01, -1.2363e-04,  9.3908e-01, -7.3698e-02,  1.8799e+00,\n",
      "         -8.8609e-01, -2.3623e-01,  7.3395e-01, -1.3368e+00, -6.3522e-01,\n",
      "         -9.9654e-01,  1.5396e+00,  7.3055e-02, -1.4258e+00, -9.6712e-01,\n",
      "          1.2886e+00],\n",
      "        [-9.8234e-02, -1.2403e+00,  2.4498e+00, -7.3517e-01,  1.4291e-01,\n",
      "         -1.2679e+00,  8.4574e-02, -2.7208e-01,  1.1904e-01, -3.4951e-01,\n",
      "         -1.1325e-01,  8.5799e-01,  1.4877e+00, -1.6939e+00,  4.4704e-01,\n",
      "          1.8133e-01],\n",
      "        [-7.1466e-01,  9.5167e-02,  1.4860e+00,  2.5093e-01,  1.9905e+00,\n",
      "         -1.2687e-01, -4.0489e-01, -4.5200e-01, -1.2812e+00,  8.2278e-01,\n",
      "         -1.2577e+00, -3.0808e-01,  3.3822e-01, -1.8880e+00,  4.6272e-01,\n",
      "          9.8704e-01],\n",
      "        [-7.3820e-01,  9.8617e-01,  1.1326e+00,  4.2702e-01,  1.2996e+00,\n",
      "         -1.3809e+00, -1.0157e+00, -5.7619e-01, -1.3495e+00,  1.1717e+00,\n",
      "         -6.5713e-01, -6.4526e-01,  1.7676e+00, -8.5092e-01,  2.0701e-02,\n",
      "          4.0843e-01],\n",
      "        [-1.1853e+00, -1.7204e+00,  2.2470e+00,  2.5549e-01,  1.0165e+00,\n",
      "         -7.4487e-01, -6.7133e-01, -8.0031e-01,  1.0276e-02,  3.4209e-01,\n",
      "         -5.6632e-01, -1.0103e-01,  1.4030e+00, -7.4479e-01,  4.3410e-01,\n",
      "          8.2596e-01],\n",
      "        [-4.9915e-01, -5.9097e-01,  3.9369e-01,  9.8895e-01, -3.2163e-01,\n",
      "         -5.3864e-01, -1.0654e+00,  1.1656e-01, -1.6340e-01, -3.2513e-01,\n",
      "          1.7220e-01, -7.5544e-01,  8.2957e-01, -1.9587e+00,  1.3300e+00,\n",
      "          2.3874e+00],\n",
      "        [-1.6990e-01, -1.1126e+00,  8.4983e-01, -8.3786e-03,  2.7398e-01,\n",
      "         -1.1712e+00, -1.5752e+00,  9.2035e-01,  3.4445e-01,  1.6603e+00,\n",
      "         -9.5102e-01,  6.8071e-01, -7.2620e-01, -1.0155e+00,  1.5371e-01,\n",
      "          1.8468e+00],\n",
      "        [-2.4901e-01, -1.2184e+00,  1.2662e+00,  8.1986e-01,  2.4809e-01,\n",
      "         -1.5090e+00,  2.7327e-01,  4.9009e-02, -1.5434e+00,  8.0317e-02,\n",
      "         -1.2049e+00,  1.6206e+00,  1.4560e-01, -9.0911e-01,  1.3634e+00,\n",
      "          7.6735e-01],\n",
      "        [-8.5883e-01, -1.9441e+00,  1.9907e+00, -7.8612e-01,  9.7697e-01,\n",
      "         -9.1382e-01,  6.0124e-02, -3.3384e-01, -3.5103e-01,  1.2240e+00,\n",
      "         -8.7386e-01,  4.8549e-01, -5.4290e-01,  9.9931e-01, -1.6041e-01,\n",
      "          1.0283e+00]], grad_fn=<SelectBackward0>)\n",
      "tensor([[[ 2.3461e-02, -7.4887e-03,  2.2137e-02, -4.2920e-02, -2.1215e-02,\n",
      "          -1.1754e-02,  1.2966e-02,  8.1711e-03, -3.3323e-02, -4.8758e-03,\n",
      "          -2.2964e-02,  2.5087e-02,  1.1366e-02,  4.1729e-02,  1.0427e-02,\n",
      "          -1.0805e-02],\n",
      "         [-2.6579e-02,  3.7256e-02,  1.9032e-02,  1.9245e-03,  4.0369e-03,\n",
      "          -1.5295e-02,  2.3289e-03, -6.6352e-03,  2.0864e-02,  8.2241e-03,\n",
      "          -2.3320e-02, -6.9814e-03,  1.3751e-02, -2.5882e-02,  1.8493e-02,\n",
      "          -2.1217e-02],\n",
      "         [-1.5426e-02, -1.3069e-02,  9.0275e-03, -1.9464e-02, -3.6251e-02,\n",
      "           2.3047e-02,  2.0652e-02,  2.1033e-02, -2.2233e-02,  1.5982e-02,\n",
      "          -1.8697e-02,  5.8473e-02,  9.3551e-03,  2.8299e-02, -3.5202e-02,\n",
      "          -2.5527e-02],\n",
      "         [-2.1118e-04, -1.3163e-02,  3.1580e-03, -2.8090e-02,  7.8880e-03,\n",
      "          -2.2121e-02,  2.0900e-03,  3.0897e-02, -1.6260e-02,  3.0518e-02,\n",
      "          -1.2156e-02,  3.3686e-02,  1.3538e-02,  1.2004e-02, -2.1564e-02,\n",
      "          -2.0213e-02],\n",
      "         [ 1.0021e-02, -5.5173e-02,  3.9242e-02, -2.6683e-02, -1.0672e-02,\n",
      "          -5.1134e-03,  5.4826e-03,  2.4484e-02, -1.8366e-02,  6.9244e-02,\n",
      "          -4.8191e-02,  8.3598e-02,  1.2150e-02,  2.2160e-02, -6.2075e-02,\n",
      "          -4.0104e-02],\n",
      "         [-2.9789e-01, -5.9755e-01,  3.3721e-01,  2.9291e-01, -1.1664e-01,\n",
      "           3.9688e-01,  4.4001e-01,  1.7575e-01,  6.4228e-01,  5.2333e-01,\n",
      "          -2.8114e-01,  2.4562e-01,  3.2258e-01, -7.3986e-01, -4.5701e-01,\n",
      "          -8.8649e-01],\n",
      "         [-3.3990e-01, -5.8402e-01,  7.8302e-01,  5.0734e-01,  2.0418e-01,\n",
      "          -7.6919e-02,  3.5870e-01, -1.9995e-01,  5.2703e-01,  2.9792e-01,\n",
      "          -3.2946e-01,  3.3247e-01,  2.3506e-01, -1.1958e+00, -1.7167e-01,\n",
      "          -3.4796e-01],\n",
      "         [-6.5614e-02,  3.6751e-01,  9.5279e-02, -2.6332e-01, -1.4293e-01,\n",
      "          -1.4453e-01, -8.1956e-02, -4.0530e-03, -1.6315e-01, -1.8946e-01,\n",
      "          -1.2467e-02, -9.6149e-03, -9.9300e-02,  1.5671e-01,  1.4117e-01,\n",
      "           4.1573e-01],\n",
      "         [ 4.1392e-02,  3.1439e-01,  1.5088e-01, -2.9810e-01,  2.1627e-01,\n",
      "          -2.2911e-01, -1.7265e-01, -1.2837e-01, -8.7269e-02,  4.7410e-02,\n",
      "          -4.8763e-02, -2.0042e-01,  3.9696e-02, -9.0910e-02,  1.1588e-01,\n",
      "           3.2968e-01],\n",
      "         [ 5.7563e-01, -1.5537e-02,  3.4211e-02,  3.2077e-02,  3.7641e-01,\n",
      "          -4.6031e-01, -4.7340e-01, -1.8780e-02, -2.9808e-01,  6.1584e-02,\n",
      "           3.3836e-02, -9.1599e-02,  6.3331e-02, -1.9830e-01,  9.2231e-03,\n",
      "           3.6971e-01]],\n",
      "\n",
      "        [[-1.3704e-02,  1.0104e-03, -6.9318e-03, -1.9404e-03,  2.0641e-03,\n",
      "          -2.5397e-03,  9.8302e-04,  2.1800e-02, -1.1246e-02, -2.5053e-03,\n",
      "           6.3992e-04,  1.8901e-02,  1.1909e-02,  1.2250e-03,  2.8703e-03,\n",
      "          -2.2534e-02],\n",
      "         [-1.3628e-02, -2.9520e-02,  1.2476e-02,  7.6889e-03, -1.9391e-02,\n",
      "           2.1108e-02, -2.9429e-03,  4.5072e-03,  7.4822e-04, -4.8730e-03,\n",
      "           1.7392e-02,  3.3936e-02,  1.7951e-02,  2.3903e-03, -3.4860e-02,\n",
      "          -1.2984e-02],\n",
      "         [-2.5475e-02, -3.5090e-03, -1.1459e-02,  7.6724e-03, -4.9157e-02,\n",
      "           6.0094e-02, -2.6704e-03,  1.2472e-02,  3.0690e-03, -9.7389e-03,\n",
      "           3.5497e-02,  2.5691e-02,  1.4696e-02,  1.1945e-03, -3.6877e-02,\n",
      "          -2.1501e-02],\n",
      "         [-1.3815e-02, -2.7122e-02,  1.0844e-02, -2.4742e-03, -2.0323e-02,\n",
      "           1.4309e-02, -9.9087e-04,  8.1032e-03, -6.5570e-03,  3.6080e-03,\n",
      "           1.4289e-02,  2.8896e-02,  1.6793e-02,  1.1572e-02, -3.0528e-02,\n",
      "          -6.6042e-03],\n",
      "         [-3.7223e-02, -2.9701e-03, -2.4022e-03, -1.3512e-04, -2.7588e-02,\n",
      "           2.6889e-02,  3.1482e-03,  1.3881e-02,  1.8923e-02,  9.9086e-03,\n",
      "           1.0531e-02,  3.9882e-02,  1.8113e-02,  8.2928e-03, -6.4968e-02,\n",
      "          -1.4283e-02],\n",
      "         [-1.5032e-01, -8.1673e-02,  1.8609e-01, -1.5606e-02, -2.4818e-01,\n",
      "           3.1117e-01,  2.9872e-01, -1.1399e-01,  8.0151e-02,  7.2333e-02,\n",
      "           3.7659e-02,  1.3557e-01,  2.7863e-02,  9.7871e-04, -3.1630e-01,\n",
      "          -2.2446e-01],\n",
      "         [-3.1191e-01,  2.1838e-01, -8.8896e-02,  1.9226e-01, -5.6488e-01,\n",
      "           4.6386e-01, -9.1355e-03, -4.7366e-02,  8.9701e-02, -1.2293e-01,\n",
      "           3.2559e-01, -3.2072e-01, -3.5166e-02, -7.6243e-02, -5.3646e-02,\n",
      "           3.4110e-01],\n",
      "         [ 1.7116e-01, -2.2609e-01, -9.1404e-02,  2.4331e-01,  1.4861e-01,\n",
      "          -1.9893e-02, -7.2530e-02,  1.0789e-02, -4.8771e-02, -5.0481e-02,\n",
      "          -8.2140e-02, -7.0040e-02, -4.2005e-02, -7.1783e-02,  1.0142e-01,\n",
      "           9.9847e-02],\n",
      "         [ 2.5428e-01, -1.6602e-01,  1.1611e-01, -1.5664e-01,  2.8479e-01,\n",
      "          -2.6269e-01, -1.1053e-01, -2.1117e-02, -1.5393e-01,  6.1350e-02,\n",
      "          -2.5725e-01, -8.3604e-02,  1.8922e-02,  1.2087e-01,  2.2260e-02,\n",
      "           3.3320e-01],\n",
      "         [ 3.2700e-01, -4.6986e-01,  4.0313e-01,  5.6408e-01, -1.1170e-01,\n",
      "          -4.6795e-01, -4.2415e-01, -3.0035e-02, -1.5933e-01,  1.5128e-01,\n",
      "          -2.7951e-01,  4.2477e-02,  1.6817e-01, -3.0466e-01,  2.1596e-01,\n",
      "           3.7511e-01]]], grad_fn=<SubBackward0>)\n"
     ]
    },
    {
     "ename": "AssertionError",
     "evalue": "False is not true : output of encoder layer is incorrect",
     "output_type": "error",
     "traceback": [
      "\u001b[0;31m---------------------------------------------------------------------------\u001b[0m",
      "\u001b[0;31mAssertionError\u001b[0m                            Traceback (most recent call last)",
      "Cell \u001b[0;32mIn[80], line 20\u001b[0m\n\u001b[1;32m     18\u001b[0m \u001b[38;5;28mprint\u001b[39m(y[\u001b[38;5;241m0\u001b[39m])\n\u001b[1;32m     19\u001b[0m \u001b[38;5;28mprint\u001b[39m(y\u001b[38;5;241m-\u001b[39m out)\n\u001b[0;32m---> 20\u001b[0m \u001b[43mtest\u001b[49m\u001b[38;5;241;43m.\u001b[39;49m\u001b[43massertTrue\u001b[49m\u001b[43m(\u001b[49m\u001b[43mtorch\u001b[49m\u001b[38;5;241;43m.\u001b[39;49m\u001b[43mallclose\u001b[49m\u001b[43m(\u001b[49m\u001b[43mout\u001b[49m\u001b[43m,\u001b[49m\u001b[43m \u001b[49m\u001b[43my\u001b[49m\u001b[43m,\u001b[49m\u001b[43m \u001b[49m\u001b[43matol\u001b[49m\u001b[38;5;241;43m=\u001b[39;49m\u001b[38;5;241;43m1e-6\u001b[39;49m\u001b[43m)\u001b[49m\u001b[43m,\u001b[49m\u001b[43m \u001b[49m\u001b[38;5;124;43m'\u001b[39;49m\u001b[38;5;124;43moutput of encoder layer is incorrect\u001b[39;49m\u001b[38;5;124;43m'\u001b[39;49m\u001b[43m)\u001b[49m\n",
      "File \u001b[0;32m~/mambaforge/envs/cs236781-hw/lib/python3.8/unittest/case.py:765\u001b[0m, in \u001b[0;36mTestCase.assertTrue\u001b[0;34m(self, expr, msg)\u001b[0m\n\u001b[1;32m    763\u001b[0m \u001b[38;5;28;01mif\u001b[39;00m \u001b[38;5;129;01mnot\u001b[39;00m expr:\n\u001b[1;32m    764\u001b[0m     msg \u001b[38;5;241m=\u001b[39m \u001b[38;5;28mself\u001b[39m\u001b[38;5;241m.\u001b[39m_formatMessage(msg, \u001b[38;5;124m\"\u001b[39m\u001b[38;5;132;01m%s\u001b[39;00m\u001b[38;5;124m is not true\u001b[39m\u001b[38;5;124m\"\u001b[39m \u001b[38;5;241m%\u001b[39m safe_repr(expr))\n\u001b[0;32m--> 765\u001b[0m     \u001b[38;5;28;01mraise\u001b[39;00m \u001b[38;5;28mself\u001b[39m\u001b[38;5;241m.\u001b[39mfailureException(msg)\n",
      "\u001b[0;31mAssertionError\u001b[0m: False is not true : output of encoder layer is incorrect"
     ]
    }
   ],
   "source": [
    "from hw3.transformer import EncoderLayer\n",
    "# set torch seed for reproducibility\n",
    "torch.manual_seed(0)\n",
    "layer = EncoderLayer(embed_dim=16, hidden_dim=16, num_heads=4, window_size=4, dropout=0.1)\n",
    "\n",
    "# load x and y\n",
    "x = torch.load(os.path.join('test_tensors','encoder_layer_input.pt'))\n",
    "print(x.shape)\n",
    "y = torch.load(os.path.join('test_tensors','encoder_layer_output.pt'))\n",
    "padding_mask = torch.ones(2, 10)\n",
    "padding_mask[:, 5:] = 0\n",
    "\n",
    "\n",
    "# forward pass\n",
    "out = layer(x, padding_mask)\n",
    "# out_reg = attention()\n",
    "print(out[0])\n",
    "print(y[0])\n",
    "print(y- out)\n",
    "test.assertTrue(torch.allclose(out, y, atol=1e-6), 'output of encoder layer is incorrect')\n"
   ]
  },
  {
   "cell_type": "markdown",
   "metadata": {},
   "source": [
    "In order to classify a sentence using the encoder, we need to somehow summarize the output of the last encoder layer (which will include an output for each token in the tokenized input sentence). \n",
    "\n",
    "There are several options for doing this. We will use the output of the special token [CLS] appended to the beginning of each sentence by the bert tokenizer we are using.\n",
    "\n",
    "Let's see an example of the first tokens in a sentence after tokenization:"
   ]
  },
  {
   "cell_type": "code",
   "execution_count": 81,
   "metadata": {
    "tags": []
   },
   "outputs": [
    {
     "data": {
      "text/plain": [
       "['[CLS]', 'i', 'rented', 'i', 'am', 'curious', '-', 'yellow', 'from', 'my']"
      ]
     },
     "execution_count": 81,
     "metadata": {},
     "output_type": "execute_result"
    }
   ],
   "source": [
    "tokenizer.convert_ids_to_tokens(dataset_tokenized['train'][0]['input_ids'])[:10]"
   ]
  },
  {
   "cell_type": "markdown",
   "metadata": {},
   "source": [
    "\n",
    "\n",
    "**TODO**: Now it's time to put it all together. Complete the implementaion of 'Encoder' in hw3/transformer.py"
   ]
  },
  {
   "cell_type": "code",
   "execution_count": 82,
   "metadata": {
    "tags": []
   },
   "outputs": [
    {
     "name": "stdout",
     "output_type": "stream",
     "text": [
      "in pv: bsz,seq_len,heads,dim -  2 64 4 4\n",
      "in pv: bsz,seq_len,heads,dim -  2 64 4 4\n",
      "in pv: bsz,seq_len,heads,dim -  2 64 4 4\n",
      "y tensor([[-0.3074],\n",
      "        [-0.7064]], requires_grad=True) out tensor([-0.3382, -0.7028], grad_fn=<SqueezeBackward1>)\n"
     ]
    },
    {
     "ename": "AssertionError",
     "evalue": "False is not true : output of encoder layer is incorrect",
     "output_type": "error",
     "traceback": [
      "\u001b[0;31m---------------------------------------------------------------------------\u001b[0m",
      "\u001b[0;31mAssertionError\u001b[0m                            Traceback (most recent call last)",
      "Cell \u001b[0;32mIn[82], line 19\u001b[0m\n\u001b[1;32m     17\u001b[0m out \u001b[38;5;241m=\u001b[39m encoder(x, padding_mask)\n\u001b[1;32m     18\u001b[0m \u001b[38;5;28mprint\u001b[39m(\u001b[38;5;124m\"\u001b[39m\u001b[38;5;124my\u001b[39m\u001b[38;5;124m\"\u001b[39m, y, \u001b[38;5;124m\"\u001b[39m\u001b[38;5;124mout\u001b[39m\u001b[38;5;124m\"\u001b[39m, out)\n\u001b[0;32m---> 19\u001b[0m \u001b[43mtest\u001b[49m\u001b[38;5;241;43m.\u001b[39;49m\u001b[43massertTrue\u001b[49m\u001b[43m(\u001b[49m\u001b[43mtorch\u001b[49m\u001b[38;5;241;43m.\u001b[39;49m\u001b[43mallclose\u001b[49m\u001b[43m(\u001b[49m\u001b[43mout\u001b[49m\u001b[43m,\u001b[49m\u001b[43m \u001b[49m\u001b[43my\u001b[49m\u001b[43m,\u001b[49m\u001b[43m \u001b[49m\u001b[43matol\u001b[49m\u001b[38;5;241;43m=\u001b[39;49m\u001b[38;5;241;43m1e-6\u001b[39;49m\u001b[43m)\u001b[49m\u001b[43m,\u001b[49m\u001b[43m \u001b[49m\u001b[38;5;124;43m'\u001b[39;49m\u001b[38;5;124;43moutput of encoder layer is incorrect\u001b[39;49m\u001b[38;5;124;43m'\u001b[39;49m\u001b[43m)\u001b[49m\n",
      "File \u001b[0;32m~/mambaforge/envs/cs236781-hw/lib/python3.8/unittest/case.py:765\u001b[0m, in \u001b[0;36mTestCase.assertTrue\u001b[0;34m(self, expr, msg)\u001b[0m\n\u001b[1;32m    763\u001b[0m \u001b[38;5;28;01mif\u001b[39;00m \u001b[38;5;129;01mnot\u001b[39;00m expr:\n\u001b[1;32m    764\u001b[0m     msg \u001b[38;5;241m=\u001b[39m \u001b[38;5;28mself\u001b[39m\u001b[38;5;241m.\u001b[39m_formatMessage(msg, \u001b[38;5;124m\"\u001b[39m\u001b[38;5;132;01m%s\u001b[39;00m\u001b[38;5;124m is not true\u001b[39m\u001b[38;5;124m\"\u001b[39m \u001b[38;5;241m%\u001b[39m safe_repr(expr))\n\u001b[0;32m--> 765\u001b[0m     \u001b[38;5;28;01mraise\u001b[39;00m \u001b[38;5;28mself\u001b[39m\u001b[38;5;241m.\u001b[39mfailureException(msg)\n",
      "\u001b[0;31mAssertionError\u001b[0m: False is not true : output of encoder layer is incorrect"
     ]
    }
   ],
   "source": [
    "from hw3.transformer import Encoder\n",
    "\n",
    "# set torch seed for reproducibility\n",
    "torch.manual_seed(0)\n",
    "encoder = Encoder(vocab_size=100, embed_dim=16, num_heads=4, num_layers=3, \n",
    "                  hidden_dim=16, max_seq_length=64, window_size=4, dropout=0.1)\n",
    "\n",
    "\n",
    "# load x and y\n",
    "x = torch.load(os.path.join('test_tensors','encoder_input.pt'))\n",
    "y = torch.load(os.path.join('test_tensors','encoder_output.pt'))\n",
    "x = torch.randint(0, 100, (2, 64)).long()\n",
    "padding_mask = torch.ones(2, 64)\n",
    "padding_mask[:, 50:] = 0\n",
    "\n",
    "# forward pass\n",
    "out = encoder(x, padding_mask)\n",
    "print(\"y\", y, \"out\", out)\n",
    "test.assertTrue(torch.allclose(out, y, atol=1e-6), 'output of encoder layer is incorrect')\n"
   ]
  },
  {
   "cell_type": "markdown",
   "metadata": {},
   "source": [
    "### \n",
    "Training the encoder\n",
    "<a id=part3_3_3></a>"
   ]
  },
  {
   "cell_type": "markdown",
   "metadata": {},
   "source": [
    "We will now proceed to train the model. \n",
    "\n",
    "**TODO**: Complete the implementation of TransformerEncoderTrainer in hw3/training.py"
   ]
  },
  {
   "cell_type": "markdown",
   "metadata": {},
   "source": [
    "#### Training on a toy dataset"
   ]
  },
  {
   "cell_type": "markdown",
   "metadata": {},
   "source": [
    "To begin with, we will train on a small toy dataset of 40 samples. This will serve as a sanity check to make sure nothing is buggy.\n",
    "\n",
    "**TODO**: choose the hyperparameters in hw3.answers part3_transformer_encoder_hyperparams."
   ]
  },
  {
   "cell_type": "code",
   "execution_count": 83,
   "metadata": {
    "id": "VWHBI8gm2qo-"
   },
   "outputs": [
    {
     "name": "stdout",
     "output_type": "stream",
     "text": [
      "{'embed_dim': 128, 'num_heads': 4, 'num_layers': 2, 'hidden_dim': 192, 'window_size': 128, 'droupout': 0.22, 'lr': 0.000549}\n"
     ]
    }
   ],
   "source": [
    "from hw3.answers import part3_transformer_encoder_hyperparams\n",
    "\n",
    "params = part3_transformer_encoder_hyperparams()\n",
    "print(params)\n",
    "embed_dim = params['embed_dim'] \n",
    "num_heads = params['num_heads']\n",
    "num_layers = params['num_layers']\n",
    "hidden_dim = params['hidden_dim']\n",
    "window_size = params['window_size']\n",
    "dropout = params['droupout']\n",
    "lr = params['lr']\n",
    "\n",
    "vocab_size = tokenizer.vocab_size\n",
    "max_seq_length = tokenizer.model_max_length\n",
    "\n",
    "max_batches_per_epoch = None\n",
    "N_EPOCHS = 20"
   ]
  },
  {
   "cell_type": "code",
   "execution_count": 84,
   "metadata": {},
   "outputs": [],
   "source": [
    "toy_model = Encoder(vocab_size, embed_dim, num_heads, num_layers, hidden_dim, max_seq_length, window_size, dropout=dropout).to(device)\n",
    "toy_optimizer = optim.Adam(toy_model.parameters(), lr=lr)\n",
    "criterion = nn.BCEWithLogitsLoss()"
   ]
  },
  {
   "cell_type": "code",
   "execution_count": 85,
   "metadata": {},
   "outputs": [
    {
     "data": {
      "text/plain": [
       "<All keys matched successfully>"
      ]
     },
     "execution_count": 85,
     "metadata": {},
     "output_type": "execute_result"
    }
   ],
   "source": [
    "import pickle\n",
    "if not os.path.exists('toy_transfomer_encoder.pt'):\n",
    "    # overfit\n",
    "    from hw3.training import TransformerEncoderTrainer\n",
    "    toy_trainer = TransformerEncoderTrainer(toy_model, criterion, toy_optimizer)\n",
    "    # set max batches per epoch\n",
    "    _ = toy_trainer.fit(dl_toy, dl_toy, N_EPOCHS, checkpoints='toy_transfomer_encoder', max_batches=max_batches_per_epoch)\n",
    "\n",
    "    \n",
    "\n",
    "toy_saved_state = torch.load('toy_transfomer_encoder.pt')\n",
    "toy_best_acc = toy_saved_state['best_acc']\n",
    "toy_model.load_state_dict(toy_saved_state['model_state']) "
   ]
  },
  {
   "cell_type": "code",
   "execution_count": 86,
   "metadata": {},
   "outputs": [
    {
     "data": {
      "text/plain": [
       "100.0"
      ]
     },
     "execution_count": 86,
     "metadata": {},
     "output_type": "execute_result"
    }
   ],
   "source": [
    "toy_best_acc"
   ]
  },
  {
   "cell_type": "code",
   "execution_count": 87,
   "metadata": {
    "tags": []
   },
   "outputs": [],
   "source": [
    "test.assertTrue(toy_best_acc >= 95)"
   ]
  },
  {
   "cell_type": "markdown",
   "metadata": {},
   "source": [
    "#### Training on all data"
   ]
  },
  {
   "cell_type": "markdown",
   "metadata": {},
   "source": [
    "Congratulations! You are now ready to train your sentiment analysis classifier!\n"
   ]
  },
  {
   "cell_type": "code",
   "execution_count": 88,
   "metadata": {},
   "outputs": [],
   "source": [
    "import optuna \n",
    "def objective(trial):\n",
    "    embed_dim=trial.suggest_int(\"embed_dim\",64,256,64)\n",
    "    hidden_dim=trial.suggest_int(\"hidden_dim\",64,256,64)\n",
    "    lr=trial.suggest_float(\"lr\", 1e-6, 1e-2)\n",
    "    num_layers = trial.suggest_int(\"num_layers\", 2,6,2)\n",
    "    window_size = trial.suggest_int(\"window_size\", 32,128,32)\n",
    "    dropout = trial.suggest_float(\"dropout\", 0.1, 0.3)\n",
    "    # Model\n",
    "    model = Encoder(vocab_size, embed_dim, num_heads, num_layers, hidden_dim, max_seq_length, window_size, dropout).to(device)\n",
    "    optimizer = optim.Adam(model.parameters(), lr=lr)\n",
    "    \n",
    "    # Trainer\n",
    "    trainer = TransformerEncoderTrainer(model, criterion, optimizer, device=device)\n",
    "    # set max batches per epoch\n",
    "    res = trainer.fit(dl_train, dl_val, N_EPOCHS, checkpoints=None, max_batches=100, trial=trial)\n",
    "    return res.test_acc[-1]\n",
    "   "
   ]
  },
  {
   "cell_type": "code",
   "execution_count": 89,
   "metadata": {},
   "outputs": [],
   "source": [
    "# study = optuna.load_study(study_name='attn', storage=f'sqlite:///attn.db')"
   ]
  },
  {
   "cell_type": "code",
   "execution_count": 90,
   "metadata": {
    "scrolled": true
   },
   "outputs": [],
   "source": [
    "# study.optimize(objective, n_trials=50)"
   ]
  },
  {
   "cell_type": "code",
   "execution_count": 91,
   "metadata": {
    "tags": []
   },
   "outputs": [],
   "source": [
    "max_batches_per_epoch = 500\n",
    "N_EPOCHS = 4"
   ]
  },
  {
   "cell_type": "code",
   "execution_count": 92,
   "metadata": {
    "tags": []
   },
   "outputs": [],
   "source": [
    "model = Encoder(vocab_size, embed_dim, num_heads, num_layers, hidden_dim, max_seq_length, window_size, dropout).to(device)\n",
    "optimizer = optim.Adam(model.parameters(), lr=lr)"
   ]
  },
  {
   "cell_type": "code",
   "execution_count": 93,
   "metadata": {
    "tags": []
   },
   "outputs": [
    {
     "data": {
      "text/plain": [
       "<All keys matched successfully>"
      ]
     },
     "execution_count": 93,
     "metadata": {},
     "output_type": "execute_result"
    }
   ],
   "source": [
    "# fit your model\n",
    "import pickle\n",
    "if not os.path.exists('trained_transfomer_encoder.pt'):\n",
    "    from hw3.training import TransformerEncoderTrainer\n",
    "    trainer = TransformerEncoderTrainer(model, criterion, optimizer, device=device)\n",
    "    # set max batches per epoch\n",
    "    _ = trainer.fit(dl_train, dl_val, N_EPOCHS, checkpoints='trained_transfomer_encoder', max_batches=max_batches_per_epoch)\n",
    "    \n",
    "\n",
    "saved_state = torch.load('trained_transfomer_encoder.pt')\n",
    "best_acc = saved_state['best_acc']\n",
    "model.load_state_dict(saved_state['model_state']) \n",
    "    \n",
    "\n",
    "    "
   ]
  },
  {
   "cell_type": "code",
   "execution_count": 97,
   "metadata": {},
   "outputs": [
    {
     "data": {
      "text/plain": [
       "72.71666666666667"
      ]
     },
     "execution_count": 97,
     "metadata": {},
     "output_type": "execute_result"
    }
   ],
   "source": [
    "best_acc"
   ]
  },
  {
   "cell_type": "code",
   "execution_count": 98,
   "metadata": {
    "tags": []
   },
   "outputs": [],
   "source": [
    "test.assertTrue(best_acc >= 65)"
   ]
  },
  {
   "cell_type": "markdown",
   "metadata": {},
   "source": [
    "Run the follwing cells to see an example of the model output:"
   ]
  },
  {
   "cell_type": "code",
   "execution_count": 106,
   "metadata": {
    "tags": []
   },
   "outputs": [
    {
     "data": {
      "text/plain": [
       "tensor([21059])"
      ]
     },
     "execution_count": 106,
     "metadata": {},
     "output_type": "execute_result"
    }
   ],
   "source": [
    "rand_index = torch.randint(len(dataset_tokenized['val']), (1,))\n",
    "rand_index"
   ]
  },
  {
   "cell_type": "code",
   "execution_count": 107,
   "metadata": {
    "tags": []
   },
   "outputs": [
    {
     "data": {
      "text/plain": [
       "['I went to see this film out of curiosity, and to settle an argument. The film is now best known from the suite of music Sergei Prokofiev extracted from his incidental music to the film, the Troika movement even turning up in pop arrangements. The general outline of the plot is well known from the sleeve notes on various recordings. A clerk accidentally generates a non-existent Lieutenant Kizhe in a list to be presented to the tsar. The tsar is interested in this person, and rather than tell him he doesn\\'t exist, the courtiers and officers maintain the pretence that he is real. Kizhe is exiled to Siberia, recalled, promoted, married, promoted again, dies, is given a state funeral, revealed as an embezzler and posthumously demoted to the ranks.<br /><br />I had heard conflicting stories about how the clerk invented Kizhe, involving ink blots and sneezes, but I\\'d heard the film was lost, so there was no way to find out what happens. Then the film turned up at the Barbican in London as part of their Prokofiev festival. For the record, it turned out that all that happens is that the clerk confuses two words whilst writing an order and turns Kuzhe into Kizhe. As the tsar is in a hurry to see the order, there\\'s no time to correct the mistake.<br /><br />Having gone expecting an historical curiosity, I was pleasantly surprised. The film is very funny, and the audience, myself included, laughed continuously. Although most of it is filmed straight, set mostly in the palace, there are a few \"trick\" shots where multiple images appear on the screen. For instance, the tsar\\'s army is represented by a small group, repeated across the screen. Four identical guards perform perfect drill in perfect unison. Two identical servants scrub the floor.<br /><br />One slight drawback was it was very difficult to work out who everyone was. There were two women who might have been the tsar\\'s daughters, or a daughter and a servant or something else. And very few people were named. But all in all, an enjoyable film and I\\'m surprised it\\'s not seen more often.']"
      ]
     },
     "execution_count": 107,
     "metadata": {},
     "output_type": "execute_result"
    }
   ],
   "source": [
    "sample = dataset['val'][rand_index]\n",
    "sample['text']"
   ]
  },
  {
   "cell_type": "code",
   "execution_count": 108,
   "metadata": {
    "tags": []
   },
   "outputs": [
    {
     "name": "stdout",
     "output_type": "stream",
     "text": [
      "label torch.Size([1])\n",
      "attention_mask torch.Size([1, 512])\n",
      "in pv: bsz,seq_len,heads,dim -  1 512 4 32\n",
      "in pv: bsz,seq_len,heads,dim -  1 512 4 32\n",
      "label: tensor([1], device='cuda:0'), prediction: 1.0\n"
     ]
    }
   ],
   "source": [
    "model.to(device)\n",
    "tokenized_sample = dataset_tokenized['val'][rand_index]\n",
    "tokenized_sample\n",
    "input_ids = tokenized_sample['input_ids'].to(device)\n",
    "label = tokenized_sample['label'].to(device)\n",
    "attention_mask = tokenized_sample['attention_mask'].float().to(device)\n",
    "\n",
    "print('label', label.shape)\n",
    "print('attention_mask', attention_mask.shape)\n",
    "prediction = model.predict(input_ids, attention_mask).squeeze(0)\n",
    "\n",
    "print('label: {}, prediction: {}'.format(label, prediction))"
   ]
  },
  {
   "cell_type": "markdown",
   "metadata": {},
   "source": [
    "In the next part you wil see how to fine-tune a pretrained model for the same task."
   ]
  },
  {
   "cell_type": "code",
   "execution_count": 109,
   "metadata": {
    "tags": []
   },
   "outputs": [],
   "source": [
    "from cs236781.answers import display_answer\n",
    "import hw3.answers"
   ]
  },
  {
   "cell_type": "markdown",
   "metadata": {},
   "source": [
    "## Questions"
   ]
  },
  {
   "cell_type": "markdown",
   "metadata": {},
   "source": [
    "Fill your answers in hw3.answers.part3_q1 and hw3.answers.part3_q2 "
   ]
  },
  {
   "cell_type": "markdown",
   "metadata": {
    "tags": []
   },
   "source": [
    "### Question 1"
   ]
  },
  {
   "cell_type": "markdown",
   "metadata": {},
   "source": [
    "Explain why stacking encoder layers that use the sliding-window attention results in a broader context in the final layer.\n",
    "Hint: Think what happens when stacking CNN layers.\n"
   ]
  },
  {
   "cell_type": "code",
   "execution_count": 110,
   "metadata": {
    "tags": []
   },
   "outputs": [
    {
     "data": {
      "text/markdown": [
       "\n",
       "when stacking multiple layers in a CNN architecture, each layer gets an input which was proccessed using a recpetive field defined by the previous layer's kernel and proccess it using the current layer's receptive field. thus, each layer increase the effective total receptive field of the input with respect to the final layer. In a sliding window there is a similiar effect - each layer processes the input sequence with a sliding window mechanism using an attention mechanism that attends to a fixed-sized window of neighboring positions and capture the dependencies and interactions within that window. By stacking multiple layers, each layer receives input from a larger context captured by the previous layer and increase the effective total context window at the final layer.  \n",
       "\n"
      ],
      "text/plain": [
       "<IPython.core.display.Markdown object>"
      ]
     },
     "metadata": {},
     "output_type": "display_data"
    }
   ],
   "source": [
    "display_answer(hw3.answers.part3_q1)"
   ]
  },
  {
   "cell_type": "markdown",
   "metadata": {},
   "source": [
    "### Question 2"
   ]
  },
  {
   "cell_type": "markdown",
   "metadata": {},
   "source": [
    "Propose a variation of the attention pattern such that the computational complexity stays similar to that of the sliding-window attention O(nw), but the attention is computed on a more global context.\n",
    "Note: There is no single correct answer to this, feel free to read the paper that proposed the sliding-window. Any solution that makes sense will be considered correct."
   ]
  },
  {
   "cell_type": "code",
   "execution_count": 111,
   "metadata": {
    "tags": []
   },
   "outputs": [
    {
     "data": {
      "text/markdown": [
       "\n",
       "one possible option that was suggested in the paper is the following - combining global attention for a small number of tokens together with sliding window. The tokens that uses the golbal attention attend to all other tokens and all other tokens asttend to them so they can proccess the globl information, while the tokens that uses sliding window attention proccess local context. we can spread the global attention tokens evenly accross the sentence. in a classification task it is recommended that the classification token (CLS in our case) would use global attenion. \n",
       "\n",
       "\n"
      ],
      "text/plain": [
       "<IPython.core.display.Markdown object>"
      ]
     },
     "metadata": {},
     "output_type": "display_data"
    }
   ],
   "source": [
    "display_answer(hw3.answers.part3_q2)"
   ]
  },
  {
   "cell_type": "code",
   "execution_count": null,
   "metadata": {},
   "outputs": [],
   "source": []
  },
  {
   "cell_type": "code",
   "execution_count": null,
   "metadata": {},
   "outputs": [],
   "source": []
  }
 ],
 "metadata": {
  "colab": {
   "provenance": []
  },
  "kernelspec": {
   "display_name": "Python 3 (ipykernel)",
   "language": "python",
   "name": "python3"
  },
  "language_info": {
   "codemirror_mode": {
    "name": "ipython",
    "version": 3
   },
   "file_extension": ".py",
   "mimetype": "text/x-python",
   "name": "python",
   "nbconvert_exporter": "python",
   "pygments_lexer": "ipython3",
   "version": "3.8.12"
  }
 },
 "nbformat": 4,
 "nbformat_minor": 4
}
